{
 "cells": [
  {
   "cell_type": "markdown",
   "id": "2bce0a1c",
   "metadata": {},
   "source": [
    "SUPPORT VECTOR MACHINE :-\n",
    "    \n",
    "    GENERAL EQN y=w^tx+b \n",
    "    \n"
   ]
  },
  {
   "cell_type": "code",
   "execution_count": null,
   "id": "0eb7c1da",
   "metadata": {},
   "outputs": [],
   "source": [
    "import numpy as np \n",
    "class SVM_classifier():\n",
    "    def __init__(self,learning_rate,epochs,C_parameter):\n",
    "        self.learning_rate=learning_rate\n",
    "        self.epochs=epochs\n",
    "        self.C_parameter=C_parameter\n",
    "        pass\n",
    "    def fit(self,X,y):\n",
    "        #where m is no of rows in feature column \n",
    "        # and n is the toal no of feature column\n",
    "        self.m,self.n=X.shape()\n",
    "        self.weights=np.zeros(self.n)\n",
    "        self.bias=0\n",
    "        self.X=X\n",
    "        self.y=y\n",
    "        for i in range(self.epochs):\n",
    "            self.update_weights()\n",
    "\n",
    "        pass\n",
    "    def update_weights(self):\n",
    "        #label encoding \n",
    "        y_label=np.where(self.y<=0,-1,1) #converting all the zeroes as -1 and 1 as 1 \n",
    "        pass\n",
    "    def predict(self):\n",
    "        pass"
   ]
  }
 ],
 "metadata": {
  "kernelspec": {
   "display_name": "Python 3",
   "language": "python",
   "name": "python3"
  },
  "language_info": {
   "name": "python",
   "version": "3.13.2"
  }
 },
 "nbformat": 4,
 "nbformat_minor": 5
}
