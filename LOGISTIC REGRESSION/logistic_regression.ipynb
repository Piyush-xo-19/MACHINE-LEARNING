{
 "cells": [
  {
   "cell_type": "code",
   "execution_count": 34,
   "id": "3f26faeb",
   "metadata": {},
   "outputs": [],
   "source": [
    "import numpy as np \n",
    "import pandas as pd"
   ]
  },
  {
   "cell_type": "code",
   "execution_count": 35,
   "id": "7ffb1f96",
   "metadata": {},
   "outputs": [],
   "source": [
    "def sigmoid(x):\n",
    "   return 1/1+np.exp(-x)\n"
   ]
  },
  {
   "cell_type": "code",
   "execution_count": 36,
   "id": "82c3f352",
   "metadata": {},
   "outputs": [],
   "source": [
    "class logistic_regression():\n",
    "    def __init__(self,learning_rate=0.001, epochs=1000):\n",
    "        self.learning_rate=learning_rate\n",
    "        self.epochs=epochs\n",
    "        self.weights=0\n",
    "        self.bias=0\n",
    "\n",
    "        pass\n",
    "    def fit(self,X,y,):\n",
    "        n_samples,n_features=X.shape()\n",
    "        self.weights= np.zeroes(n_features)\n",
    "        self.bias=0\n",
    "        for i in range(self.epochs):\n",
    "            linear_pred=np.dot(X,self.weights)+self.bias\n",
    "            predictions=sigmoid(linear_pred)\n",
    "\n",
    "            dw=1/(n_samples)*np.dot(X.T,(predictions-y))\n",
    "            db=1/(n_samples)*np.sum(predictions-y)\n",
    "            self.weights=self.weights-self.learning_rate*dw\n",
    "            self.bias= self.bias-self.learning_rate*db\n",
    "    def predict(self):\n",
    "        linear_pred=np.dot(X,self.weights)+self.bias\n",
    "        y_pred=sigmoid(linear_pred)\n",
    "        class_pred= [ 0 if y<=0.5 else 1 for y in y_pred ]\n",
    "        return class_pred\n",
    "\n"
   ]
  },
  {
   "cell_type": "markdown",
   "id": "1ac73662",
   "metadata": {},
   "source": [
    "IMPLEMENTING LOGISTIC REGRESSION\n"
   ]
  },
  {
   "cell_type": "code",
   "execution_count": 37,
   "id": "4a7c01ce",
   "metadata": {},
   "outputs": [],
   "source": [
    "import numpy as np \n",
    "import pandas as pd \n",
    "import matplotlib.pyplot as plt \n"
   ]
  },
  {
   "cell_type": "code",
   "execution_count": 38,
   "id": "de2a7d40",
   "metadata": {},
   "outputs": [],
   "source": [
    "df=pd.read_excel(r\"C:\\Users\\LENOVO\\Desktop\\machine learnig\\diabetes.xlsx\")"
   ]
  },
  {
   "cell_type": "code",
   "execution_count": 39,
   "id": "425eb3c0",
   "metadata": {},
   "outputs": [
    {
     "name": "stdout",
     "output_type": "stream",
     "text": [
      "   Pregnancies  Glucose  BloodPressure  SkinThickness  Insulin   BMI  \\\n",
      "0            6      148             72             35        0  33.6   \n",
      "1            1       85             66             29        0  26.6   \n",
      "2            8      183             64              0        0  23.3   \n",
      "3            1       89             66             23       94  28.1   \n",
      "4            0      137             40             35      168  43.1   \n",
      "\n",
      "   DiabetesPedigreeFunction  Age  Outcome  \n",
      "0                     0.627   50        1  \n",
      "1                     0.351   31        0  \n",
      "2                     0.672   32        1  \n",
      "3                     0.167   21        0  \n",
      "4                     2.288   33        1  \n"
     ]
    }
   ],
   "source": [
    "print(df.head())"
   ]
  },
  {
   "cell_type": "code",
   "execution_count": 40,
   "id": "687e408c",
   "metadata": {},
   "outputs": [
    {
     "name": "stdout",
     "output_type": "stream",
     "text": [
      "<bound method NDFrame.describe of      Pregnancies  Glucose  BloodPressure  SkinThickness  Insulin   BMI  \\\n",
      "0              6      148             72             35        0  33.6   \n",
      "1              1       85             66             29        0  26.6   \n",
      "2              8      183             64              0        0  23.3   \n",
      "3              1       89             66             23       94  28.1   \n",
      "4              0      137             40             35      168  43.1   \n",
      "..           ...      ...            ...            ...      ...   ...   \n",
      "763           10      101             76             48      180  32.9   \n",
      "764            2      122             70             27        0  36.8   \n",
      "765            5      121             72             23      112  26.2   \n",
      "766            1      126             60              0        0  30.1   \n",
      "767            1       93             70             31        0  30.4   \n",
      "\n",
      "     DiabetesPedigreeFunction  Age  Outcome  \n",
      "0                       0.627   50        1  \n",
      "1                       0.351   31        0  \n",
      "2                       0.672   32        1  \n",
      "3                       0.167   21        0  \n",
      "4                       2.288   33        1  \n",
      "..                        ...  ...      ...  \n",
      "763                     0.171   63        0  \n",
      "764                     0.340   27        0  \n",
      "765                     0.245   30        0  \n",
      "766                     0.349   47        1  \n",
      "767                     0.315   23        0  \n",
      "\n",
      "[768 rows x 9 columns]>\n",
      "Pregnancies                 0\n",
      "Glucose                     0\n",
      "BloodPressure               0\n",
      "SkinThickness               0\n",
      "Insulin                     0\n",
      "BMI                         0\n",
      "DiabetesPedigreeFunction    0\n",
      "Age                         0\n",
      "Outcome                     0\n",
      "dtype: int64\n"
     ]
    }
   ],
   "source": [
    "print(df.describe)\n",
    "print(df.isnull().sum())"
   ]
  },
  {
   "cell_type": "markdown",
   "id": "b49398bb",
   "metadata": {},
   "source": [
    "STANDARDIZATION "
   ]
  },
  {
   "cell_type": "code",
   "execution_count": null,
   "id": "b42e95ca",
   "metadata": {},
   "outputs": [],
   "source": [
    "from sklearn.model_selection import train_test_split\n",
    "from sklearn.linear_model import  LogisticRegression\n",
    "from sklearn.preprocessing import  StandardScaler\n",
    "X=df.drop([\"Outcome\"],axis=1)\n",
    "y=df.Outcome\n",
    "X_train,X_test,y_train,y_test=train_test_split(X,y, test_size=0.3 ,random_state=42)\n",
    "\n"
   ]
  },
  {
   "cell_type": "code",
   "execution_count": null,
   "id": "ce21acf0",
   "metadata": {},
   "outputs": [],
   "source": [
    "sr=StandardScaler()\n",
    "X_train_standard=sr.fit_transform(X_train)\n",
    "X_test_standard=sr.fit_transform(X_test)\n"
   ]
  },
  {
   "cell_type": "code",
   "execution_count": null,
   "id": "2feae2dc",
   "metadata": {},
   "outputs": [],
   "source": [
    "lr=LogisticRegression()\n",
    "lr.fit(X_train_standard,y_train)\n",
    "y_pred=lr.predict(X_test_standard)\n"
   ]
  },
  {
   "cell_type": "code",
   "execution_count": null,
   "id": "0855ad2b",
   "metadata": {},
   "outputs": [],
   "source": [
    "print(y_pred)"
   ]
  },
  {
   "cell_type": "code",
   "execution_count": 55,
   "id": "3e29162b",
   "metadata": {},
   "outputs": [
    {
     "name": "stdout",
     "output_type": "stream",
     "text": [
      "Accuracy: 0.7445887445887446\n",
      "Recall: 0.6\n",
      "F1 Score: 0.6193548387096774\n",
      "Confusion Matrix:\n",
      " [[124  27]\n",
      " [ 32  48]]\n"
     ]
    }
   ],
   "source": [
    "from sklearn.metrics import accuracy_score ,confusion_matrix,recall_score,f1_score\n",
    "\n",
    "print(\"Accuracy:\", accuracy_score(y_test, y_pred))\n",
    "print(\"Recall:\", recall_score(y_test, y_pred))\n",
    "print(\"F1 Score:\", f1_score(y_test, y_pred))\n",
    "print(\"Confusion Matrix:\\n\", confusion_matrix(y_test, y_pred))"
   ]
  },
  {
   "cell_type": "markdown",
   "id": "888a7197",
   "metadata": {},
   "source": [
    "IN logistic regression we have multinomial logistic regression also which works like multi linear regrerssion "
   ]
  },
  {
   "cell_type": "markdown",
   "id": "126c6089",
   "metadata": {},
   "source": [
    "to use it in scikit learn we have to just make a change in the line "
   ]
  },
  {
   "cell_type": "code",
   "execution_count": null,
   "id": "0f596dde",
   "metadata": {},
   "outputs": [],
   "source": [
    "lor=LogisticRegression(multi_class=\"multinomial\")"
   ]
  }
 ],
 "metadata": {
  "kernelspec": {
   "display_name": "Python 3",
   "language": "python",
   "name": "python3"
  },
  "language_info": {
   "codemirror_mode": {
    "name": "ipython",
    "version": 3
   },
   "file_extension": ".py",
   "mimetype": "text/x-python",
   "name": "python",
   "nbconvert_exporter": "python",
   "pygments_lexer": "ipython3",
   "version": "3.13.2"
  }
 },
 "nbformat": 4,
 "nbformat_minor": 5
}
