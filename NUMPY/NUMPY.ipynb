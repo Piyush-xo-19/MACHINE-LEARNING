{
 "cells": [
  {
   "cell_type": "code",
   "execution_count": 15,
   "id": "cf032814",
   "metadata": {},
   "outputs": [
    {
     "name": "stdout",
     "output_type": "stream",
     "text": [
      "[1 2 3]\n",
      "[[1 2 3 4]\n",
      " [5 6 7 8]]\n"
     ]
    }
   ],
   "source": [
    "import numpy as np \n",
    "a=np.array([1,2,3])# intializing its an 1d array \n",
    "b= np.array([[1,2,3,4],[5,6,7,8]])# 2d array\n",
    "print(a)\n",
    "print(b)"
   ]
  },
  {
   "cell_type": "code",
   "execution_count": 16,
   "id": "c9612190",
   "metadata": {},
   "outputs": [
    {
     "name": "stdout",
     "output_type": "stream",
     "text": [
      "1\n",
      "2\n",
      "the shape of the array b is (2, 4)\n"
     ]
    }
   ],
   "source": [
    "#to get dimension of the array \n",
    "print(a.ndim)\n",
    "print(b.ndim)\n",
    "# to get shape of the array we used \n",
    "print(f\"the shape of the array b is {b.shape}\")\n"
   ]
  },
  {
   "cell_type": "code",
   "execution_count": 17,
   "id": "03e64833",
   "metadata": {},
   "outputs": [
    {
     "name": "stdout",
     "output_type": "stream",
     "text": [
      "the original datatype stored  float64\n",
      "the new one is  float16\n"
     ]
    }
   ],
   "source": [
    "#can chage the default datatype stored in the array and even ca check what type of array is stored \n",
    "c=np.array([5.0,6.1,3.1,2.3,54,])\n",
    "print(\"the original datatype stored \",c.dtype)\n",
    "c=np.array([5.0,6.1,3.1,2.3,54],dtype=\"float16\")\n",
    "print(\"the new one is \",c.dtype)"
   ]
  },
  {
   "cell_type": "code",
   "execution_count": 18,
   "id": "7c472baf",
   "metadata": {},
   "outputs": [
    {
     "name": "stdout",
     "output_type": "stream",
     "text": [
      "[1.35 2.35 6.35 5.35]\n",
      "the original type of array d is  float64\n",
      "the updated type of array d is  int64\n",
      "[1 2 6 5]\n"
     ]
    }
   ],
   "source": [
    "#conversion of a particular array datatype into another \n",
    "d=np.array([1.35,2.35,6.35,5.35])\n",
    "print(d)\n",
    "print(\"the original type of array d is \",d.dtype)\n",
    "d1=d.astype(int) # we use as type to get  convert the dataype pass the type in which you want your array to be stored as \n",
    "print(\"the updated type of array d is \",d1.dtype)\n",
    "print(d1)"
   ]
  },
  {
   "cell_type": "markdown",
   "id": "693f41c7",
   "metadata": {},
   "source": [
    "MATHEMATICAL OPERATIONS ON NUMPY "
   ]
  },
  {
   "cell_type": "markdown",
   "id": "ff566160",
   "metadata": {},
   "source": [
    "we ca use all the artihmetic operation which we study in python + - * / ** // % in the numpy for operations on array "
   ]
  },
  {
   "cell_type": "code",
   "execution_count": 19,
   "id": "eb1bacbb",
   "metadata": {},
   "outputs": [
    {
     "name": "stdout",
     "output_type": "stream",
     "text": [
      "[15 25 35 45]\n",
      "[ 5 15 25 35]\n",
      "[100 200 300 400]\n",
      "[ 100  400  900 1600]\n"
     ]
    }
   ],
   "source": [
    "arr=np.array([10,20,30,40])\n",
    "print(arr+5)#add +5 to each element of array \n",
    "print(arr-5)#subtract -5 from each \n",
    "print(arr*10)#multiply 10\n",
    "print(arr**2)# raised to power of 2 "
   ]
  },
  {
   "cell_type": "markdown",
   "id": "386e5b46",
   "metadata": {},
   "source": [
    "AGGREATION FUNCTIONS IN NUMPY (mean,variance,maximum, minimum,sd,sum)"
   ]
  },
  {
   "cell_type": "code",
   "execution_count": 20,
   "id": "5d91346d",
   "metadata": {},
   "outputs": [
    {
     "name": "stdout",
     "output_type": "stream",
     "text": [
      "100\n",
      "25.0\n",
      "25.0\n",
      "11.180339887498949\n",
      "125.0\n",
      "40\n",
      "10\n"
     ]
    }
   ],
   "source": [
    "array=np.array([10,20,30,40,50,60])\n",
    "print(np.sum(arr))\n",
    "print(np.mean(arr))\n",
    "print(np.median(arr))\n",
    "print(np.std(arr)) # std used to calculate standard deviation in the data \n",
    "print(np.var(arr))# var is used to claculate variance in the data \n",
    "print(np.max(arr))\n",
    "print(np.min(arr))\n"
   ]
  },
  {
   "cell_type": "markdown",
   "id": "58c40615",
   "metadata": {},
   "source": [
    "INDEXING IN NUMPY \n",
    " \n",
    " okay so to acess any element in the array we go like or follows the syntax  ARRAY[ row,column ] (2d array )\n",
    "\n",
    "for 3d array its like Array[depth ,row ,column]\n",
    " \n",
    "in mumpy it starts from zeroth (0 row and 0 column ) "
   ]
  },
  {
   "cell_type": "code",
   "execution_count": 21,
   "id": "9ae87eb3",
   "metadata": {},
   "outputs": [
    {
     "name": "stdout",
     "output_type": "stream",
     "text": [
      "[[ 1  2  3 78]\n",
      " [ 1  5  4 89]]\n",
      "78\n",
      "78\n"
     ]
    }
   ],
   "source": [
    "arr=np.array([[1,2,3,78,],\n",
    "              [1,5,4,89]])\n",
    "print(arr)\n",
    "# if i want to access the element 78 we can easily do it by indexing \n",
    "print(arr[0,3]) #or \n",
    "print (arr[0,-1]) # as in numpy you can perform both +ve and -ve indexing \n"
   ]
  },
  {
   "cell_type": "markdown",
   "id": "fca3bdcb",
   "metadata": {},
   "source": [
    "SLICINING IN NUMPY\n",
    "\n",
    "slicing is done to get a particular grp of element  \n",
    "\n",
    "syntax for slicing i s as simple of indexing but there is a diff \n",
    "\n",
    "Syntax :- arr[starts : stop : step ]"
   ]
  },
  {
   "cell_type": "code",
   "execution_count": 22,
   "id": "066d34eb",
   "metadata": {},
   "outputs": [
    {
     "name": "stdout",
     "output_type": "stream",
     "text": [
      "[[ 1  2  3  4]\n",
      " [ 4  8  9 10]\n",
      " [10 12 13 14]]\n",
      "[1 2 3 4]\n",
      "[ 3  9 13]\n",
      "[ 9 10]\n",
      "[3 9]\n"
     ]
    }
   ],
   "source": [
    "arr= np.array([[1,2,3,4],\n",
    "              [4,8,9,10],\n",
    "               [10,12,13,14] ])\n",
    "print(arr)\n",
    "print(arr[0,:]) #gives you  elemnts of zeroth row \n",
    "print(arr[:,2]) # to get a specific column like 2 \n",
    " # if want to acess the  elemnts from row 1 but not all of them \n",
    "print(arr[1,2:4] ) #where 1 is the row 2 is the start index and 4 is the stop index \n",
    "print(arr[0:-1,2]) # to access elements of column 2 first of all we do (indexing of start:stop ) then column no \n"
   ]
  },
  {
   "cell_type": "markdown",
   "id": "f2e83da9",
   "metadata": {},
   "source": [
    "BOOLEAN MASKING \n",
    "\n",
    "done in the case to get element under specific conditions \n"
   ]
  },
  {
   "cell_type": "code",
   "execution_count": 23,
   "id": "90deb177",
   "metadata": {},
   "outputs": [
    {
     "name": "stdout",
     "output_type": "stream",
     "text": [
      "[ 8  9 10 10 12 13 14]\n",
      "[]\n",
      "[10]\n"
     ]
    }
   ],
   "source": [
    "arr= np.array([[1,2,3,4],\n",
    "              [4,8,9,10],\n",
    "               [10,12,13,14] ])\n",
    "print(arr[arr>5])# print al the  elemts above 5 \n",
    "print(arr[0,arr[0]>5])\n",
    "print(arr[arr[:,0]>5,0])"
   ]
  },
  {
   "cell_type": "markdown",
   "id": "e69f942a",
   "metadata": {},
   "source": [
    "ARRAY RE SHAPING (used to convert 1d array into multi dimensional )\n"
   ]
  },
  {
   "cell_type": "code",
   "execution_count": 24,
   "id": "769820ae",
   "metadata": {},
   "outputs": [
    {
     "name": "stdout",
     "output_type": "stream",
     "text": [
      "[[1 2]\n",
      " [3 4]]\n"
     ]
    }
   ],
   "source": [
    "# A NORMAL SYNATAX FOR REHAPING IN WHICH WE PASSESS ROWS AND COLUMNS \n",
    "arr=np.array([1,2,3,4])\n",
    "arr1=arr.reshape(2,2)\n",
    "print(arr1)  "
   ]
  },
  {
   "cell_type": "markdown",
   "id": "8c41efd5",
   "metadata": {},
   "source": [
    "FLATTENING (used to conver 2d,3d array into 1d)\n",
    "\n",
    "here we have 2 methods :-\n",
    "\n",
    "1) Ravel:- used when to do work in inplace=true means there is no copy of original array created \n",
    "\n",
    "2) Flatten :- creates a copy of original array and then do changes in original array "
   ]
  },
  {
   "cell_type": "code",
   "execution_count": 25,
   "id": "c8f39216",
   "metadata": {},
   "outputs": [
    {
     "name": "stdout",
     "output_type": "stream",
     "text": [
      "[45 35 65 25 45 25 31 96]\n",
      "[45 35 65 25 45 25 31 96]\n"
     ]
    }
   ],
   "source": [
    "arr=np.array([[45,35,65,25],[45,25,31,96,]])\n",
    "print(arr.flatten())\n",
    "print(arr.ravel())"
   ]
  },
  {
   "cell_type": "markdown",
   "id": "524c408b",
   "metadata": {},
   "source": [
    "INSERTION ,APPEND ,CONCATENATE ,DELETE IN ARRAY \n",
    "\n",
    "so its simple all of them have almost same syntax for example :-\n",
    "\n",
    "np.insert(array,index,value,axis=0,1)\n",
    "\n",
    "np.append(array, value, axis=0,1)\n",
    "\n",
    "np.concatenate((array1,array2),axis=0,1) \n",
    "\n",
    "np.delete(array,index,axis=0,1)\n",
    "\n",
    "np.vstack((arr1,arr2))  if want to vertical stack only 1 array then np.vstack(arr1)\n",
    "\n",
    "np.hstack((arr1,arr2)) if want to horizontally stack only 1 array then np.hstack(arr2)"
   ]
  },
  {
   "cell_type": "code",
   "execution_count": null,
   "id": "bc3e6ae0",
   "metadata": {},
   "outputs": [],
   "source": [
    "arr1=np.array([[1,2,3],[4,5,6]])\n",
    "arr2=np.array([[7,8,9],[4,5,6]])\n",
    "print(np.insert(arr1,1,10,axis=0))\n",
    "print(np.append(arr1,[[10,10,10]],axis=0))\n",
    "print(np.delete(arr1,1,axis=0))\n",
    "print(np.concatenate((arr1,arr2),axis=0))\n",
    "print(np.vstack((arr1,arr2)))\n",
    "print(np.hstack((arr1,arr2)))\n",
    "\n"
   ]
  },
  {
   "cell_type": "markdown",
   "id": "c4650aa0",
   "metadata": {},
   "source": [
    "BROADCASTING AND VECTORIZATION\n",
    "\n",
    "broadcasting and vectorizations are used to  do mathematcal calulations on array so that we can avoid using loops hence we  used methods of \n",
    "\n",
    "broadcasting and vectorization as they are faster and easy to apply on arrays instead loops are complicated "
   ]
  },
  {
   "cell_type": "code",
   "execution_count": null,
   "id": "fd5ffe84",
   "metadata": {},
   "outputs": [
    {
     "name": "stdout",
     "output_type": "stream",
     "text": [
      "[2 4 6]\n",
      "[11 12 13]\n"
     ]
    }
   ],
   "source": [
    "'''let us take an example where we have taken a list of price of grocerry items and now we want new list after applying 10 percent discount on items price \n",
    "so we use loops in normal python but loops are slow in large datasets so to  avoid such problems we use broadcasting in broadcasting we apply direct arithmetic operations on \n",
    "array \n",
    "'''\n",
    "arr=np.array([1,2,3])\n",
    "arr1=np.array([1,2,3])\n",
    "result =arr+10# so in broadcasting what it does numpy  thinks 10 also an array so same dimension and shape  and adds it to the arr forming result "
   ]
  },
  {
   "cell_type": "markdown",
   "id": "d8f84238",
   "metadata": {},
   "source": [
    "NAN VALUES ,INFINITE VALUES \n",
    "\n",
    "NAN  stands for not a number so to check wether there exist nan values in the array or not we use np.isnan , to check infinte values we use np.isinfand to repalce \n",
    "\n",
    "NAN values with a no we use np.nan_to_num(array,nan=value )"
   ]
  },
  {
   "cell_type": "markdown",
   "id": "3eec6bdc",
   "metadata": {},
   "source": [
    "OKAY SO THIS IS END OF NUMPY \n",
    "\n",
    "HOPE YOU GUS LIKED IT AND ABLE TO LEARN AND IMPLEMENT IN THE MACHINE LEARNING "
   ]
  },
  {
   "cell_type": "markdown",
   "id": "1a76cb5c",
   "metadata": {},
   "source": [
    "**AARE JA KHA RAHE HO YA TEST TO H DEKAR JAYO TABHI MANUNGA KI NUMPY AATI HAI** \n"
   ]
  },
  {
   "cell_type": "markdown",
   "id": "2ea27ea8",
   "metadata": {},
   "source": [
    "🧠 NumPy Challenge: Grocery Sales Data Analysis\n",
    "You're given a NumPy array of 7 days of grocery sales.\n",
    "Each row represents a day, and each column represents an item.\n",
    "\n",
    "python\n",
    "Copy\n",
    "Edit\n",
    "import numpy as np\n",
    "\n",
    "# Dataset: Rows = Days (7), Columns = Items (5)\n",
    "sales_data = np.array([\n",
    "    [20, 34, 30, 21, 18],  # Day 1\n",
    "\n",
    "    [22, 30, 35, 20, 19],  # Day 2\n",
    "\n",
    "    [19, 29, 32, 25, 20],  # Day 3\n",
    "    \n",
    "    [25, 33, 31, 23, 21],  # Day 4\n",
    "    \n",
    "    [18, 27, 28, 22, 17],  # Day 5\n",
    "    \n",
    "    [24, 31, 29, 26, 23],  # Day 6\n",
    "    \n",
    "    [21, 35, 34, 24, 22],  # Day 7\n",
    "    \n",
    "])\n",
    "Your Tasks:\n",
    "Total sales per item → Column-wise sum.\n",
    "\n",
    "Average sales per day → Row-wise mean.\n",
    "\n",
    "Find the day number (1-indexed) with maximum total sales.\n",
    "\n",
    "Find the item number (1-indexed) with minimum total sales.\n",
    "\n",
    "Replace all values < 20 with 20 in a copy of the array.\n",
    "\n",
    "Create a new array with a 10% discount on Day 3's sales only.\n",
    "\n",
    "Extract sales of Item 2 and Item 4 from even-numbered days only (Day 2, 4, 6)."
   ]
  },
  {
   "cell_type": "code",
   "execution_count": 61,
   "id": "1ddc49da",
   "metadata": {},
   "outputs": [
    {
     "name": "stdout",
     "output_type": "stream",
     "text": [
      "[149 219 219 161 140]\n",
      "[24.6 25.2 25.  26.6 22.4 26.6 27.2]\n",
      "highest sales were on day  7\n",
      "item no with lowest sale =  5\n",
      "[[20 34 30 21 20]\n",
      " [22 30 35 20 20]\n",
      " [20 29 32 25 20]\n",
      " [25 33 31 23 21]\n",
      " [20 27 28 22 20]\n",
      " [24 31 29 26 23]\n",
      " [21 35 34 24 22]]\n",
      "[17.1 26.1 28.8 22.5 18. ]\n",
      "[30 33 31]\n",
      "[20 23 26]\n"
     ]
    }
   ],
   "source": [
    "import numpy as np\n",
    "\n",
    "# Dataset: Rows = Days (7), Columns = Items (5)\n",
    "sales_data = np.array([\n",
    "    [20, 34, 30, 21, 18],  # Day 1\n",
    "    [22, 30, 35, 20, 19],  # Day 2\n",
    "    [19, 29, 32, 25, 20],  # Day 3\n",
    "    [25, 33, 31, 23, 21],  # Day 4\n",
    "    [18, 27, 28, 22, 17],  # Day 5\n",
    "    [24, 31, 29, 26, 23],  # Day 6\n",
    "    [21, 35, 34, 24, 22],  # Day 7\n",
    "])\n",
    "\n",
    "\n",
    "#task 1 \n",
    "print(np.sum(sales_data,axis=0))\n",
    "#task2\n",
    "print(np.mean(sales_data,axis=1))\n",
    "#task3\n",
    "highest_arr=np.sum(sales_data,axis=1)\n",
    "position=np.argmax(highest_arr)\n",
    "print(\"highest sales were on day \",position +1)\n",
    "#task 4\n",
    "total_sale_item=np.sum(sales_data,axis=0)\n",
    "position=np.argmin(total_sale_item)\n",
    "print(\"item no with lowest sale = \",position +1)\n",
    "#task5\n",
    "sales_modified = sales_data.copy()\n",
    "sales_modified[sales_modified < 20] = 20\n",
    "print(sales_modified)\n",
    "\n",
    "# task 6\n",
    "day3_sales = sales_data[2]  # Day 3 is index 2\n",
    "discounted_day3 = day3_sales * 0.90\n",
    "print(discounted_day3)\n",
    "# task 7\n",
    "print(sales_data[1:7:2,1])\n",
    "print(sales_data[1:7:2,3])\n"
   ]
  }
 ],
 "metadata": {
  "kernelspec": {
   "display_name": "Python 3",
   "language": "python",
   "name": "python3"
  },
  "language_info": {
   "codemirror_mode": {
    "name": "ipython",
    "version": 3
   },
   "file_extension": ".py",
   "mimetype": "text/x-python",
   "name": "python",
   "nbconvert_exporter": "python",
   "pygments_lexer": "ipython3",
   "version": "3.13.2"
  }
 },
 "nbformat": 4,
 "nbformat_minor": 5
}
